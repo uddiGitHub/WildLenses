{
 "cells": [
  {
   "cell_type": "markdown",
   "metadata": {},
   "source": [
    "# Dataset Describtion"
   ]
  },
  {
   "cell_type": "code",
   "execution_count": 6,
   "metadata": {
    "scrolled": true
   },
   "outputs": [],
   "source": [
    "import os\n",
    "import pandas as pd"
   ]
  },
  {
   "cell_type": "code",
   "execution_count": 12,
   "metadata": {},
   "outputs": [],
   "source": [
    "dataset_path = \"../Dataset\""
   ]
  },
  {
   "cell_type": "code",
   "execution_count": 13,
   "metadata": {},
   "outputs": [
    {
     "data": {
      "text/plain": [
       "['Paederia Foetida (L.)',\n",
       " 'Tephrosia Candida(Roxb.) DC',\n",
       " 'Cheilocostus speciosus',\n",
       " 'Lasia Spinosa']"
      ]
     },
     "execution_count": 13,
     "metadata": {},
     "output_type": "execute_result"
    }
   ],
   "source": [
    "os.listdir(dataset_path)"
   ]
  },
  {
   "cell_type": "code",
   "execution_count": 21,
   "metadata": {},
   "outputs": [],
   "source": [
    "for root, dirs, files in os.walk(dataset_path):\n",
    "    i = 0\n",
    "    for file in files:\n",
    "        file_path = os.path.join(root, file)\n",
    "        file_extension = os.path.splitext(file_path)[1]\n",
    "        # i = i+1\n",
    "        # new_file_name = root+\"/\"+str(i)+file_extension\n",
    "        # os.rename(file_path, new_file_name)\n",
    "        # print(file_path)"
   ]
  },
  {
   "cell_type": "code",
   "execution_count": 15,
   "metadata": {},
   "outputs": [
    {
     "data": {
      "text/plain": [
       "4"
      ]
     },
     "execution_count": 15,
     "metadata": {},
     "output_type": "execute_result"
    }
   ],
   "source": [
    "class_list = os.listdir(dataset_path)\n",
    "len(class_list)"
   ]
  },
  {
   "cell_type": "code",
   "execution_count": 16,
   "metadata": {},
   "outputs": [],
   "source": [
    "num_img_list = []\n",
    "for root, dirs, files in os.walk(dataset_path):\n",
    "    num_img = len(files)\n",
    "    num_img_list.append(num_img)"
   ]
  },
  {
   "cell_type": "code",
   "execution_count": 17,
   "metadata": {},
   "outputs": [
    {
     "data": {
      "text/plain": [
       "{'Paederia Foetida (L.)': 75,\n",
       " 'Tephrosia Candida(Roxb.) DC': 60,\n",
       " 'Cheilocostus speciosus': 60,\n",
       " 'Lasia Spinosa': 77}"
      ]
     },
     "execution_count": 17,
     "metadata": {},
     "output_type": "execute_result"
    }
   ],
   "source": [
    "data_dict = {class_list[i]: num_img_list[i+1] for i in range(len(class_list))}\n",
    "data_dict"
   ]
  },
  {
   "cell_type": "code",
   "execution_count": 20,
   "metadata": {},
   "outputs": [
    {
     "name": "stderr",
     "output_type": "stream",
     "text": [
      "/usr/lib/python3/dist-packages/scipy/__init__.py:146: UserWarning: A NumPy version >=1.17.3 and <1.25.0 is required for this version of SciPy (detected version 1.26.2\n",
      "  warnings.warn(f\"A NumPy version >={np_minversion} and <{np_maxversion}\"\n",
      "/tmp/ipykernel_5265/3836320747.py:10: FutureWarning: \n",
      "\n",
      "Passing `palette` without assigning `hue` is deprecated and will be removed in v0.14.0. Assign the `x` variable to `hue` and set `legend=False` for the same effect.\n",
      "\n",
      "  ax = sns.barplot(x=x, y=y, palette=color_map(normalize(y)))\n",
      "/tmp/ipykernel_5265/3836320747.py:10: UserWarning: Numpy array is not a supported type for `palette`. Please convert your palette to a list. This will become an error in v0.14\n",
      "  ax = sns.barplot(x=x, y=y, palette=color_map(normalize(y)))\n"
     ]
    },
    {
     "data": {
      "image/png": "[encoded data removed]",
      "text/plain": [
       "<Figure size 864x432 with 2 Axes>"
      ]
     },
     "metadata": {
      "needs_background": "light"
     },
     "output_type": "display_data"
    }
   ],
   "source": [
    "import matplotlib.pyplot as plt\n",
    "import seaborn as sns\n",
    "\n",
    "x = list(data_dict.keys())\n",
    "y = list(data_dict.values())\n",
    "\n",
    "color_map = plt.cm.viridis\n",
    "normalize = plt.Normalize(min(y), max(y))\n",
    "plt.figure(figsize=(12, 6))\n",
    "ax = sns.barplot(x=x, y=y, palette=color_map(normalize(y)))\n",
    "\n",
    "plt.xlabel('wild edible plants classes')\n",
    "plt.ylabel('number od images in each class')\n",
    "plt.title('Dataset Description')\n",
    "plt.xticks(rotation=90, fontsize = 10)  \n",
    "\n",
    "sm = plt.cm.ScalarMappable(cmap=color_map, norm=normalize)\n",
    "sm.set_array([])\n",
    "cbar = plt.colorbar(sm)\n",
    "\n",
    "plt.tight_layout()\n",
    "plt.show()"
   ]
  },
  {
   "cell_type": "code",
   "execution_count": null,
   "metadata": {},
   "outputs": [],
   "source": []
  }
 ],
 "metadata": {
  "kernelspec": {
   "display_name": "Python 3 (ipykernel)",
   "language": "python",
   "name": "python3"
  },
  "language_info": {
   "codemirror_mode": {
    "name": "ipython",
    "version": 3
   },
   "file_extension": ".py",
   "mimetype": "text/x-python",
   "name": "python",
   "nbconvert_exporter": "python",
   "pygments_lexer": "ipython3",
   "version": "3.10.12"
  }
 },
 "nbformat": 4,
 "nbformat_minor": 4
}
