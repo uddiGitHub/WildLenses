{
 "cells": [
  {
   "cell_type": "markdown",
   "id": "059a3fb2-7318-4bef-b0e3-2252206889e4",
   "metadata": {},
   "source": [
    "# Data Pre-Processing"
   ]
  },
  {
   "cell_type": "code",
   "execution_count": 12,
   "id": "fa652e44-dab0-42b6-8439-6eaabd48248d",
   "metadata": {},
   "outputs": [],
   "source": [
    "from glob import glob as gb\n",
    "import cv2\n",
    "import os\n",
    "\n",
    "import pandas as pd\n",
    "import numpy as np"
   ]
  },
  {
   "cell_type": "markdown",
   "id": "b23ae157-a759-4066-be7a-b565137ac47d",
   "metadata": {},
   "source": [
    "##### Reading the Images"
   ]
  },
  {
   "cell_type": "code",
   "execution_count": 13,
   "id": "e84c912e-01b2-4c7c-85fc-a8897400364a",
   "metadata": {},
   "outputs": [
    {
     "ename": "SyntaxError",
     "evalue": "incomplete input (161948169.py, line 2)",
     "output_type": "error",
     "traceback": [
      "\u001b[0;36m  File \u001b[0;32m\"/tmp/ipykernel_30207/161948169.py\"\u001b[0;36m, line \u001b[0;32m2\u001b[0m\n\u001b[0;31m    \u001b[0m\n\u001b[0m    ^\u001b[0m\n\u001b[0;31mSyntaxError\u001b[0m\u001b[0;31m:\u001b[0m incomplete input\n"
     ]
    }
   ],
   "source": [
    "def readImages(path):\n",
    "    "
   ]
  },
  {
   "cell_type": "code",
   "execution_count": 14,
   "id": "f4276b17-284c-4d7f-b63d-6df37640b384",
   "metadata": {},
   "outputs": [],
   "source": [
    "dataset_path = \"../Dataset\"\n",
    "classes = os.listdir(dataset_path)"
   ]
  },
  {
   "cell_type": "code",
   "execution_count": null,
   "id": "c8bd77a9-99b2-460d-8489-464b7e8e8cb1",
   "metadata": {},
   "outputs": [],
   "source": []
  }
 ],
 "metadata": {
  "kernelspec": {
   "display_name": "Python 3 (ipykernel)",
   "language": "python",
   "name": "python3"
  },
  "language_info": {
   "codemirror_mode": {
    "name": "ipython",
    "version": 3
   },
   "file_extension": ".py",
   "mimetype": "text/x-python",
   "name": "python",
   "nbconvert_exporter": "python",
   "pygments_lexer": "ipython3",
   "version": "3.10.12"
  }
 },
 "nbformat": 4,
 "nbformat_minor": 5
}
